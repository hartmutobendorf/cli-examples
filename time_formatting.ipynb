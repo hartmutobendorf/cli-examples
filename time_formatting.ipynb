{
 "cells": [
  {
   "cell_type": "code",
   "execution_count": 5,
   "metadata": {},
   "outputs": [
    {
     "name": "stdout",
     "output_type": "stream",
     "text": [
      " 181 minutes\n",
      " 181 min\n",
      " 181m\n",
      " 181分钟\n",
      " 3小时\n",
      " 3 Stunden\n"
     ]
    }
   ],
   "source": [
    "from datetime import timedelta\n",
    "from mydates.dates import format_timedelta\n",
    "delta = timedelta(seconds=10840)\n",
    "print (format_timedelta(delta, threshold=100, format='long', granularity='second', locale='en_US'))\n",
    "print (format_timedelta(delta, threshold=100, format='short', granularity='second', locale='en_US'))\n",
    "print (format_timedelta(delta, threshold=100, format='narrow', granularity='second', locale='en_US'))\n",
    "print (format_timedelta(delta, threshold=100, format='narrow', granularity='second', locale='zh_CN'))\n",
    "print (format_timedelta(delta, format='long', granularity='second', locale='zh_CN'))\n",
    "print (format_timedelta(delta, granularity='second', locale='de_DE'))\n"
   ]
  },
  {
   "cell_type": "code",
   "execution_count": 6,
   "metadata": {},
   "outputs": [
    {
     "name": "stdout",
     "output_type": "stream",
     "text": [
      " 3 hr 0 min 40 sec\n",
      " 3 hours 0 minutes 40 seconds\n",
      " 3h 0m 40s\n",
      " 3小时 0分钟 40秒\n",
      " 3小时 0分钟 40秒\n",
      " 3小时 0分钟 40秒钟\n",
      " 3小时 0分钟 40秒钟\n",
      " 3 Stunden 0 Minuten 40 Sekunden\n"
     ]
    }
   ],
   "source": [
    "print (format_timedelta(delta, depth='fullest', threshold=1, format='short', granularity='second', locale='en_US'))\n",
    "print (format_timedelta(delta, depth='fullest', threshold=1, format='long', granularity='second', locale='en_US'))\n",
    "print (format_timedelta(delta, depth='fullest', threshold=1, format='narrow', granularity='second', locale='en_US'))\n",
    "print (format_timedelta(delta, depth='fullest', threshold=1, format='narrow', granularity='second', locale='zh_CN'))\n",
    "print (format_timedelta(delta, depth='fullest', threshold=1, format='short', granularity='second', locale='zh_CN'))\n",
    "print (format_timedelta(delta, depth='fullest', threshold=1, format='long', granularity='second', locale='zh_CN'))\n",
    "print (format_timedelta(delta, depth='fullest', format='long', granularity='second', locale='zh_CN'))\n",
    "print (format_timedelta(delta, depth='fullest', granularity='second', locale='de_DE'))"
   ]
  },
  {
   "cell_type": "code",
   "execution_count": 7,
   "metadata": {},
   "outputs": [
    {
     "name": "stdout",
     "output_type": "stream",
     "text": [
      " 3 hr 40 sec\n",
      " 3 hours 40 seconds\n",
      " 3h 40s\n",
      " 3小时 40秒\n",
      " 3小时 40秒\n",
      " 3小时 40秒钟\n",
      " 3小时 40秒钟\n",
      " 3 Stunden 40 Sekunden\n"
     ]
    }
   ],
   "source": [
    "print (format_timedelta(delta, depth='full', threshold=1, format='short', granularity='second', locale='en_US'))\n",
    "print (format_timedelta(delta, depth='full', threshold=1, format='long', granularity='second', locale='en_US'))\n",
    "print (format_timedelta(delta, depth='full', threshold=1, format='narrow', granularity='second', locale='en_US'))\n",
    "print (format_timedelta(delta, depth='full', threshold=1, format='narrow', granularity='second', locale='zh_CN'))\n",
    "print (format_timedelta(delta, depth='full', threshold=1, format='short', granularity='second', locale='zh_CN'))\n",
    "print (format_timedelta(delta, depth='full', threshold=1, format='long', granularity='second', locale='zh_CN'))\n",
    "print (format_timedelta(delta, depth='full', format='long', granularity='second', locale='zh_CN'))\n",
    "print (format_timedelta(delta, depth='full', granularity='second', locale='de_DE'))"
   ]
  }
 ],
 "metadata": {
  "kernelspec": {
   "display_name": "Python 3",
   "language": "python",
   "name": "python3"
  },
  "language_info": {
   "codemirror_mode": {
    "name": "ipython",
    "version": 3
   },
   "file_extension": ".py",
   "mimetype": "text/x-python",
   "name": "python",
   "nbconvert_exporter": "python",
   "pygments_lexer": "ipython3",
   "version": "3.12.2"
  }
 },
 "nbformat": 4,
 "nbformat_minor": 2
}
