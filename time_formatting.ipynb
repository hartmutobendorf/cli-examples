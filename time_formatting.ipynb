{
 "cells": [
  {
   "cell_type": "code",
   "execution_count": 30,
   "metadata": {},
   "outputs": [
    {
     "ename": "ImportError",
     "evalue": "attempted relative import with no known parent package",
     "output_type": "error",
     "traceback": [
      "\u001b[0;31m---------------------------------------------------------------------------\u001b[0m",
      "\u001b[0;31mImportError\u001b[0m                               Traceback (most recent call last)",
      "Cell \u001b[0;32mIn[30], line 2\u001b[0m\n\u001b[1;32m      1\u001b[0m \u001b[38;5;28;01mfrom\u001b[39;00m \u001b[38;5;21;01mdatetime\u001b[39;00m \u001b[38;5;28;01mimport\u001b[39;00m timedelta\n\u001b[0;32m----> 2\u001b[0m \u001b[38;5;28;01mfrom\u001b[39;00m \u001b[38;5;21;01m.\u001b[39;00m\u001b[38;5;21;01mdates\u001b[39;00m \u001b[38;5;28;01mimport\u001b[39;00m format_timedelta\n\u001b[1;32m      3\u001b[0m delta \u001b[38;5;241m=\u001b[39m timedelta(seconds\u001b[38;5;241m=\u001b[39m\u001b[38;5;241m1060\u001b[39m)\n\u001b[1;32m      4\u001b[0m \u001b[38;5;28mprint\u001b[39m (format_timedelta(delta, threshold\u001b[38;5;241m=\u001b[39m\u001b[38;5;241m100\u001b[39m, \u001b[38;5;28mformat\u001b[39m\u001b[38;5;241m=\u001b[39m\u001b[38;5;124m'\u001b[39m\u001b[38;5;124mlong\u001b[39m\u001b[38;5;124m'\u001b[39m, granularity\u001b[38;5;241m=\u001b[39m\u001b[38;5;124m'\u001b[39m\u001b[38;5;124msecond\u001b[39m\u001b[38;5;124m'\u001b[39m, locale\u001b[38;5;241m=\u001b[39m\u001b[38;5;124m'\u001b[39m\u001b[38;5;124men_US\u001b[39m\u001b[38;5;124m'\u001b[39m))\n",
      "\u001b[0;31mImportError\u001b[0m: attempted relative import with no known parent package"
     ]
    }
   ],
   "source": [
    "from datetime import timedelta\n",
    "from mydates.dates import format_timedelta\n",
    "delta = timedelta(seconds=1060)\n",
    "print (format_timedelta(delta, threshold=100, format='long', granularity='second', locale='en_US'))\n",
    "print (format_timedelta(delta, threshold=100, format='short', granularity='second', locale='en_US'))\n",
    "print (format_timedelta(delta, threshold=100, format='narrow', granularity='second', locale='en_US'))\n",
    "print (format_timedelta(delta, threshold=100, format='narrow', granularity='second', locale='zh_CN'))\n",
    "print (format_timedelta(delta, threshold=100, format='short', granularity='second', locale='zh_CN'))\n",
    "print (format_timedelta(delta, threshold=100, format='long', granularity='second', locale='zh_CN'))\n",
    "print (format_timedelta(delta, format='long', granularity='second', locale='zh_CN'))\n",
    "print (format_timedelta(delta, granularity='second', locale='de_DE'))\n"
   ]
  },
  {
   "cell_type": "code",
   "execution_count": 29,
   "metadata": {},
   "outputs": [
    {
     "name": "stdout",
     "output_type": "stream",
     "text": [
      "2 days, 1 hour and 33.12 seconds\n",
      "2 days, 1 hour and 33 seconds\n",
      "2 days, 1 hour, 33 seconds and 123 milliseconds\n",
      "49 hours and 33.1230 seconds\n"
     ]
    }
   ],
   "source": [
    "import humanize\n",
    "import datetime as dt\n",
    "delta = dt.timedelta(seconds=3633, days=2, microseconds=123000)\n",
    "print(humanize.precisedelta(delta))\n",
    "print(humanize.precisedelta(delta, format=\"%0.0f\",minimum_unit=\"seconds\"))\n",
    "print(humanize.precisedelta(delta, minimum_unit=\"microseconds\"))\n",
    "print(humanize.precisedelta(delta, suppress=[\"days\"], format=\"%0.4f\"))\n"
   ]
  }
 ],
 "metadata": {
  "kernelspec": {
   "display_name": "Python 3",
   "language": "python",
   "name": "python3"
  },
  "language_info": {
   "codemirror_mode": {
    "name": "ipython",
    "version": 3
   },
   "file_extension": ".py",
   "mimetype": "text/x-python",
   "name": "python",
   "nbconvert_exporter": "python",
   "pygments_lexer": "ipython3",
   "version": "3.12.2"
  }
 },
 "nbformat": 4,
 "nbformat_minor": 2
}
